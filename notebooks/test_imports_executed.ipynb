{
 "cells": [
  {
   "cell_type": "markdown",
   "metadata": {},
   "source": [
    "# Test Imports\n",
    "\n",
    "This notebook tests that all the module imports work correctly."
   ]
  },
  {
   "cell_type": "code",
   "execution_count": 1,
   "metadata": {
    "execution": {
     "iopub.execute_input": "2025-03-19T20:50:58.161949Z",
     "iopub.status.busy": "2025-03-19T20:50:58.160950Z",
     "iopub.status.idle": "2025-03-19T20:50:58.166973Z",
     "shell.execute_reply": "2025-03-19T20:50:58.166973Z"
    }
   },
   "outputs": [
    {
     "name": "stdout",
     "output_type": "stream",
     "text": [
      "Testing imports...\n"
     ]
    }
   ],
   "source": [
    "import sys\n",
    "import os\n",
    "\n",
    "# Add the scripts directory to the path\n",
    "sys.path.append('../scripts')\n",
    "\n",
    "print(\"Testing imports...\")"
   ]
  },
  {
   "cell_type": "code",
   "execution_count": 2,
   "metadata": {
    "execution": {
     "iopub.execute_input": "2025-03-19T20:50:58.213980Z",
     "iopub.status.busy": "2025-03-19T20:50:58.213980Z",
     "iopub.status.idle": "2025-03-19T20:51:00.091266Z",
     "shell.execute_reply": "2025-03-19T20:51:00.091266Z"
    }
   },
   "outputs": [
    {
     "name": "stdout",
     "output_type": "stream",
     "text": [
      "✓ BaseModel imported successfully\n"
     ]
    }
   ],
   "source": [
    "# Import base_model\n",
    "from base_model import BaseModel\n",
    "print(\"✓ BaseModel imported successfully\")"
   ]
  },
  {
   "cell_type": "code",
   "execution_count": 3,
   "metadata": {
    "execution": {
     "iopub.execute_input": "2025-03-19T20:51:00.094275Z",
     "iopub.status.busy": "2025-03-19T20:51:00.094275Z",
     "iopub.status.idle": "2025-03-19T20:51:01.117843Z",
     "shell.execute_reply": "2025-03-19T20:51:01.117843Z"
    }
   },
   "outputs": [
    {
     "name": "stdout",
     "output_type": "stream",
     "text": [
      "✓ GradientBoostingModel, XGBoostModel, and LightGBMModel imported successfully\n"
     ]
    }
   ],
   "source": [
    "# Import gradient_boosting\n",
    "from gradient_boosting import GradientBoostingModel, XGBoostModel, LightGBMModel\n",
    "print(\"✓ GradientBoostingModel, XGBoostModel, and LightGBMModel imported successfully\")"
   ]
  },
  {
   "cell_type": "code",
   "execution_count": 4,
   "metadata": {
    "execution": {
     "iopub.execute_input": "2025-03-19T20:51:01.120850Z",
     "iopub.status.busy": "2025-03-19T20:51:01.120850Z",
     "iopub.status.idle": "2025-03-19T20:51:04.308582Z",
     "shell.execute_reply": "2025-03-19T20:51:04.308582Z"
    }
   },
   "outputs": [
    {
     "name": "stdout",
     "output_type": "stream",
     "text": [
      "✓ NeuralNetworkModel imported successfully\n"
     ]
    }
   ],
   "source": [
    "# Import neural_network\n",
    "from neural_network import NeuralNetworkModel\n",
    "print(\"✓ NeuralNetworkModel imported successfully\")"
   ]
  },
  {
   "cell_type": "code",
   "execution_count": 5,
   "metadata": {
    "execution": {
     "iopub.execute_input": "2025-03-19T20:51:04.311882Z",
     "iopub.status.busy": "2025-03-19T20:51:04.311882Z",
     "iopub.status.idle": "2025-03-19T20:51:04.499957Z",
     "shell.execute_reply": "2025-03-19T20:51:04.498950Z"
    }
   },
   "outputs": [
    {
     "name": "stdout",
     "output_type": "stream",
     "text": [
      "✓ ModelTrainer and compare_models imported successfully\n"
     ]
    }
   ],
   "source": [
    "# Import training_pipeline\n",
    "from training_pipeline import ModelTrainer, compare_models\n",
    "print(\"✓ ModelTrainer and compare_models imported successfully\")"
   ]
  },
  {
   "cell_type": "code",
   "execution_count": 6,
   "metadata": {
    "execution": {
     "iopub.execute_input": "2025-03-19T20:51:04.502957Z",
     "iopub.status.busy": "2025-03-19T20:51:04.502957Z",
     "iopub.status.idle": "2025-03-19T20:51:04.507961Z",
     "shell.execute_reply": "2025-03-19T20:51:04.507961Z"
    }
   },
   "outputs": [
    {
     "name": "stdout",
     "output_type": "stream",
     "text": [
      "✓ align_features imported successfully\n"
     ]
    }
   ],
   "source": [
    "# Import utils\n",
    "from utils import align_features\n",
    "print(\"✓ align_features imported successfully\")"
   ]
  },
  {
   "cell_type": "code",
   "execution_count": 7,
   "metadata": {
    "execution": {
     "iopub.execute_input": "2025-03-19T20:51:04.511019Z",
     "iopub.status.busy": "2025-03-19T20:51:04.511019Z",
     "iopub.status.idle": "2025-03-19T20:51:04.514936Z",
     "shell.execute_reply": "2025-03-19T20:51:04.514936Z"
    }
   },
   "outputs": [
    {
     "name": "stdout",
     "output_type": "stream",
     "text": [
      "✓ Model instances created successfully\n"
     ]
    }
   ],
   "source": [
    "# Create instances of each model\n",
    "xgb_model = XGBoostModel(model_name=\"XGBoost_Test\")\n",
    "lgb_model = LightGBMModel(model_name=\"LightGBM_Test\")\n",
    "nn_model = NeuralNetworkModel(model_name=\"NeuralNetwork_Test\")\n",
    "\n",
    "print(\"✓ Model instances created successfully\")"
   ]
  },
  {
   "cell_type": "code",
   "execution_count": 8,
   "metadata": {
    "execution": {
     "iopub.execute_input": "2025-03-19T20:51:04.517942Z",
     "iopub.status.busy": "2025-03-19T20:51:04.517942Z",
     "iopub.status.idle": "2025-03-19T20:51:04.523250Z",
     "shell.execute_reply": "2025-03-19T20:51:04.522241Z"
    }
   },
   "outputs": [
    {
     "name": "stdout",
     "output_type": "stream",
     "text": [
      "✓ Trainer instances created successfully\n"
     ]
    }
   ],
   "source": [
    "# Create trainers\n",
    "xgb_trainer = ModelTrainer(model=xgb_model)\n",
    "lgb_trainer = ModelTrainer(model=lgb_model)\n",
    "nn_trainer = ModelTrainer(model=nn_model)\n",
    "\n",
    "print(\"✓ Trainer instances created successfully\")"
   ]
  },
  {
   "cell_type": "markdown",
   "metadata": {},
   "source": [
    "## All imports and instantiations successful!\n",
    "\n",
    "The code structure is working correctly. The modules can now be used for training and evaluation with actual data."
   ]
  }
 ],
 "metadata": {
  "kernelspec": {
   "display_name": "Python 3",
   "language": "python",
   "name": "python3"
  },
  "language_info": {
   "codemirror_mode": {
    "name": "ipython",
    "version": 3
   },
   "file_extension": ".py",
   "mimetype": "text/x-python",
   "name": "python",
   "nbconvert_exporter": "python",
   "pygments_lexer": "ipython3",
   "version": "3.12.7"
  }
 },
 "nbformat": 4,
 "nbformat_minor": 4
}
