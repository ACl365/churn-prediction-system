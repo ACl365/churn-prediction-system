{
 "cells": [
  {
   "cell_type": "markdown",
   "metadata": {},
   "source": [
    "# Test Imports\n",
    "\n",
    "This notebook tests that all the module imports work correctly."
   ]
  },
  {
   "cell_type": "code",
   "execution_count": null,
   "metadata": {},
   "outputs": [],
   "source": [
    "import sys\n",
    "import os\n",
    "\n",
    "# Add the scripts directory to the path\n",
    "sys.path.append('../scripts')\n",
    "\n",
    "print(\"Testing imports...\")"
   ]
  },
  {
   "cell_type": "code",
   "execution_count": null,
   "metadata": {},
   "outputs": [],
   "source": [
    "# Import base_model\n",
    "from base_model import BaseModel\n",
    "print(\"✓ BaseModel imported successfully\")"
   ]
  },
  {
   "cell_type": "code",
   "execution_count": null,
   "metadata": {},
   "outputs": [],
   "source": [
    "# Import gradient_boosting\n",
    "from gradient_boosting import GradientBoostingModel, XGBoostModel, LightGBMModel\n",
    "print(\"✓ GradientBoostingModel, XGBoostModel, and LightGBMModel imported successfully\")"
   ]
  },
  {
   "cell_type": "code",
   "execution_count": null,
   "metadata": {},
   "outputs": [],
   "source": [
    "# Import neural_network\n",
    "from neural_network import NeuralNetworkModel\n",
    "print(\"✓ NeuralNetworkModel imported successfully\")"
   ]
  },
  {
   "cell_type": "code",
   "execution_count": null,
   "metadata": {},
   "outputs": [],
   "source": [
    "# Import training_pipeline\n",
    "from training_pipeline import ModelTrainer, compare_models\n",
    "print(\"✓ ModelTrainer and compare_models imported successfully\")"
   ]
  },
  {
   "cell_type": "code",
   "execution_count": null,
   "metadata": {},
   "outputs": [],
   "source": [
    "# Import utils\n",
    "from utils import align_features\n",
    "print(\"✓ align_features imported successfully\")"
   ]
  },
  {
   "cell_type": "code",
   "execution_count": null,
   "metadata": {},
   "outputs": [],
   "source": [
    "# Create instances of each model\n",
    "xgb_model = XGBoostModel(model_name=\"XGBoost_Test\")\n",
    "lgb_model = LightGBMModel(model_name=\"LightGBM_Test\")\n",
    "nn_model = NeuralNetworkModel(model_name=\"NeuralNetwork_Test\")\n",
    "\n",
    "print(\"✓ Model instances created successfully\")"
   ]
  },
  {
   "cell_type": "code",
   "execution_count": null,
   "metadata": {},
   "outputs": [],
   "source": [
    "# Create trainers\n",
    "xgb_trainer = ModelTrainer(model=xgb_model)\n",
    "lgb_trainer = ModelTrainer(model=lgb_model)\n",
    "nn_trainer = ModelTrainer(model=nn_model)\n",
    "\n",
    "print(\"✓ Trainer instances created successfully\")"
   ]
  },
  {
   "cell_type": "markdown",
   "metadata": {},
   "source": [
    "## All imports and instantiations successful!\n",
    "\n",
    "The code structure is working correctly. The modules can now be used for training and evaluation with actual data."
   ]
  }
 ],
 "metadata": {
  "kernelspec": {
   "display_name": "Python 3",
   "language": "python",
   "name": "python3"
  },
  "language_info": {
   "codemirror_mode": {
    "name": "ipython",
    "version": 3
   },
   "file_extension": ".py",
   "mimetype": "text/x-python",
   "name": "python",
   "nbconvert_exporter": "python",
   "pygments_lexer": "ipython3",
   "version": "3.8.5"
  }
 },
 "nbformat": 4,
 "nbformat_minor": 4
}